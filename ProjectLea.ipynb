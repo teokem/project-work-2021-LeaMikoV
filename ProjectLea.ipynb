{
 "cells": [
  {
   "cell_type": "markdown",
   "id": "unique-habitat",
   "metadata": {},
   "source": [
    "# Climate Observations: Data Analysis and Visualization"
   ]
  },
  {
   "cell_type": "markdown",
   "id": "58e0b8de",
   "metadata": {},
   "source": [
    "*[Lea Miko Versbach](https://www.maths.lu.se/staff/lea-miko-versbach/), PhD student Lund University, Numerical analysis*  "
   ]
  },
  {
   "cell_type": "markdown",
   "id": "21af2051",
   "metadata": {},
   "source": [
    "### Outline:\n",
    "[1. Introduction](#Introduction)   \n",
    "&ensp;[1.1 Prerequisites](#Prerequisites)  \n",
    "[2. General Information](#GeneralInformation)  \n",
    "[3. Data Processing](#DataProcessing)  \n",
    "[4. Data Visualization](#DataVisualization)  \n",
    "[5. Statistics of Climate Observations](#Statistics)    \n",
    "&ensp;[5.1 Standard Error of Means](#StandardError)  \n",
    "&ensp;[5.2 Climate Zone](#ClimateZone)  \n",
    "&ensp;[5.3 Temperature Trends: Poylonomial Regression](#TemperatureTrends)  \n",
    "&ensp;[5.4 Moving Averages](#MovingAverages)  \n",
    "&ensp;[5.5 Oscillations](#Oscillations)  \n",
    "&ensp;[5.6 Correlation](#Correlation)  \n",
    "[6. Conclusions](#Conclusions)  \n",
    "[References](#References)"
   ]
  },
  {
   "cell_type": "markdown",
   "id": "265d064b",
   "metadata": {},
   "source": [
    "<a id = 'Introduction'></a>\n",
    "## 1. Introduction"
   ]
  },
  {
   "cell_type": "markdown",
   "id": "sonic-biotechnology",
   "metadata": {},
   "source": [
    "In this project climate data for a city in southern Germany is read in, cleaned and analyzed using different statistical methods. I chose to analyze climate data of the city Regensburg since I lived there most of my childhood.    \n",
    "My research does not include working with big data sets, therefore this project has been used to learn more about data science, i.e. working with data sets, presenting and analyzing them. Moreover, some literature search was done on how to present climate data and apply some statistical methods on it.  \n",
    "The project work included searching for freely available climate data sets, reading in the data and getting a first overview, followed by some literature search on how to work with and interpret climate data.    \n",
    "In the first section of this notebook a bokeh map is created with some basic facts about the station the climate data comes from. In the next section, the data is processed, i.e. read in, cleaned, reorganized and stored to an excel file. In the third section, the user can get a visual overview over the data by using two interactive plots where the available observations can be visualized using different options like mean over all years, yearly data and more. In the following section, some statistical methods are applied to the data sets in order to interpret them. Finally, some conclusions are made in the last section."
   ]
  },
  {
   "cell_type": "markdown",
   "id": "aa3046da",
   "metadata": {},
   "source": [
    "<a id = 'Prerequisites'></a>\n",
    "### 1.1 Prerequisites"
   ]
  },
  {
   "cell_type": "markdown",
   "id": "6220d4a7",
   "metadata": {},
   "source": [
    "Those are the main packages used in this code and therefore are imported in the beginning:"
   ]
  },
  {
   "cell_type": "code",
   "execution_count": null,
   "id": "entire-sweden",
   "metadata": {},
   "outputs": [],
   "source": [
    "import numpy as np #scientific computing\n",
    "import pandas as pd #data handling\n",
    "import matplotlib.pyplot as plt #plotting\n",
    "%matplotlib inline \n",
    "import geopandas as gpd #plotting\n",
    "from bokeh.plotting import figure #plotting\n",
    "from bokeh.io import show, output_notebook #plotting\n",
    "from bokeh.palettes import Category10 #plotting\n",
    "from bokeh.models import GeoJSONDataSource, ColumnDataSource, HoverTool, Title #plotting\n",
    "from bokeh.transform import factor_cmap #plotting\n",
    "from bokeh.models.widgets import Slider #plotting\n",
    "from bokeh.layouts import column, row, WidgetBox #plotting\n",
    "from ipywidgets import interact, interactive, fixed, widgets #plotting"
   ]
  },
  {
   "cell_type": "markdown",
   "id": "heard-circus",
   "metadata": {},
   "source": [
    "<a id='GeneralInformation'></a>\n",
    "## 2. General Information"
   ]
  },
  {
   "cell_type": "markdown",
   "id": "noticed-smith",
   "metadata": {},
   "source": [
    "In this project, climate data from the years 1879-2019 for the city Regensburg, located in the south-east of Germany, is analyzed. Regensburg is located in eastern Bavaria, at the northest points of the Danubea and the fourth-largest city in the State of Bavaria with more than 150,000 inhabitants.  "
   ]
  },
  {
   "cell_type": "markdown",
   "id": "0eb0f370",
   "metadata": {},
   "source": [
    "<img src=\"Figures/Regensburg.png\" width=\"500\" align=\"left\"/>"
   ]
  },
  {
   "cell_type": "markdown",
   "id": "8c57ab28",
   "metadata": {},
   "source": [
    "The following map of Europe shows where Regensburg is located and provides some basic information about the city. It is created using `bokeh` and `geopandas`:"
   ]
  },
  {
   "cell_type": "code",
   "execution_count": null,
   "id": "moderate-scenario",
   "metadata": {},
   "outputs": [],
   "source": [
    "#manually set up data frame (information from Wikipedia, date: 10-04-2021)\n",
    "RGBGdata = pd.DataFrame({'country': 'Germany', 'state': 'Bavaria', 'station': 'Regensburg', 'area': [8076], 'population': [153094],\n",
    "                       'lat': [49.1], 'lon': [12.5]})\n",
    "\n",
    "source = ColumnDataSource( data = RGBGdata ) #data source\n",
    "\n",
    "location = {'RGBG': {'lat':49.1,'lon':12.5}} #location on the map\n",
    "\n",
    "#load map from geopandas\n",
    "europe = gpd.read_file(gpd.datasets.get_path('naturalearth_lowres'))\n",
    "geo_source = GeoJSONDataSource(geojson=europe.to_json())\n",
    "\n",
    "#get map with tools on the left (they are self-explaining)\n",
    "p = figure(tools = \"pan, wheel_zoom, reset\", x_range = (-30, 60), y_range = (30, 85), \n",
    "           x_axis_location=None, y_axis_location=None, plot_width=800, plot_height=700)\n",
    "\n",
    "p.title.text = 'Map of Europe with Regensburg' #title of figure\n",
    "p.title.text_font_size = '14pt' #font size title\n",
    "\n",
    "p.add_layout(Title(text='Data taken from Wikipedia https://en.wikipedia.org/wiki/Regensburg', align='left',\n",
    "       text_font_size=\"10px\", text_color='blue'), \"below\") #extra information below figure\n",
    "\n",
    "#remove grid on map\n",
    "p.xgrid.visible = False\n",
    "p.ygrid.visible = False\n",
    "\n",
    "#style of patches\n",
    "p.patches('xs', 'ys', fill_alpha=0,\n",
    "    line_color=Category10[10][7], line_width=1.5, source=geo_source)\n",
    "\n",
    "#style of plot\n",
    "glyph = p.scatter('lon','lat', source = source, \n",
    "              size = 5, fill_alpha = .5, hover_fill_alpha = 1.0,\n",
    "              marker = 'circle',\n",
    "              legend_label = 'Regensburg')\n",
    "\n",
    "#widgets on RHS\n",
    "glyph_hover = HoverTool(renderers=[glyph],\n",
    "                         tooltips=[('Sation','@station'),('Longitude','@lon E'), ('Latitude','@lat N'),\n",
    "                                  ('Country','@country'), ('State','@state'), ('Population','@population'),\n",
    "                                  ('Area','@area')])\n",
    "p.add_tools(glyph_hover) #add the widgets\n",
    "\n",
    "#position title and legend\n",
    "p.title.align = 'center'\n",
    "p.legend.location = 'top_left'\n",
    "\n",
    "#show figure in notebook\n",
    "output_notebook()\n",
    "show(p)"
   ]
  },
  {
   "cell_type": "markdown",
   "id": "fiscal-hanging",
   "metadata": {},
   "source": [
    "<a id='DataProcessing'></a>\n",
    "## 3. Data Processing"
   ]
  },
  {
   "cell_type": "markdown",
   "id": "written-crown",
   "metadata": {},
   "source": [
    "The data is downoladed from the homepage of the DWD (Deutscher Wetterdienst), the German Meteorological Service\n",
    "and can be found at [this url](https://www.dwd.de/DE/leistungen/klimadatendeutschland/klarchivtagmonat.html?nn=16102). They provide free historical weather data for 83 weather stations in Germany. The download consists of several html and txt files, which provide all data as well as explanations for the given data."
   ]
  },
  {
   "cell_type": "markdown",
   "id": "royal-modem",
   "metadata": {},
   "source": [
    "We start by reading in the data, cleaning it and making it more readable. This is done using the `pandas` package:"
   ]
  },
  {
   "cell_type": "code",
   "execution_count": null,
   "id": "supreme-external",
   "metadata": {},
   "outputs": [],
   "source": [
    "#read in the file using pandas as dataframe\n",
    "df = pd.read_table('Data/produkt_klima_tag_18790101_20191231_04104.txt',header=0,sep=';|\\t',engine='python')"
   ]
  },
  {
   "cell_type": "markdown",
   "id": "e7ed7305",
   "metadata": {},
   "source": [
    "We check how the data actually looks like in the beginning."
   ]
  },
  {
   "cell_type": "code",
   "execution_count": null,
   "id": "severe-director",
   "metadata": {},
   "outputs": [],
   "source": [
    "df.head() #print first rows of table"
   ]
  },
  {
   "cell_type": "markdown",
   "id": "offensive-yukon",
   "metadata": {},
   "source": [
    "First we clean the data, i.e. delete unnecessary columns or columns that are not of interest for this project using the pandas `drop` function and selecting the columns by their names. Setting the `inplace` parameter to true ensures that the respective column is deleted from the data set."
   ]
  },
  {
   "cell_type": "code",
   "execution_count": null,
   "id": "funny-flesh",
   "metadata": {},
   "outputs": [],
   "source": [
    "df.drop(columns='STATIONS_ID',inplace=True) #delete the unnecessary station ID column, we consider only one station ID\n",
    "df.drop(columns='QN_3',inplace=True) #delete the column describing measurement quality\n",
    "df.drop(columns='QN_4',inplace=True) #delete the column describing measurement quality\n",
    "df.drop(columns='RSKF',inplace=True) #delete the column describing numerical code for precipitation\n",
    "df.drop(columns='eor',inplace=True) #delete the unnecessary eor (end of row) column\n",
    "#df.head()"
   ]
  },
  {
   "cell_type": "markdown",
   "id": "adolescent-portugal",
   "metadata": {},
   "source": [
    "We change the names in the table since they are not clear. A description of the abbreviations can be found (in German) in the html file."
   ]
  },
  {
   "cell_type": "code",
   "execution_count": null,
   "id": "broadband-devices",
   "metadata": {},
   "outputs": [],
   "source": [
    "df.columns = ['date','max wind peak value','average wind velocity','precipitation level','sun hours',\n",
    "              'snow height','average degree of coverage','average degree of vaport pressure',\n",
    "              'average air pressure','average temperature','average relative humidity',\n",
    "              'max temperature','min temperature','min temperature 5cm'] #rename remaining columns\n",
    "#df.head()"
   ]
  },
  {
   "cell_type": "markdown",
   "id": "hidden-personal",
   "metadata": {},
   "source": [
    "Next, we change the index of the columns. We replace the numerical index by the date information, using pandas in-built datetime form `to_datetime` and create a multiindex for year-month-day."
   ]
  },
  {
   "cell_type": "code",
   "execution_count": null,
   "id": "silver-thomas",
   "metadata": {},
   "outputs": [],
   "source": [
    "df.set_index(['date'],inplace=True) #set DataFrame index using column 'date'\n",
    "df.index = pd.to_datetime(df.index, format='%Y%m%d') #use pandas datetime option to replace by year-month-day format\n",
    "df['day'] = df.index.day #define day index\n",
    "df['month'] = df.index.month #define month index\n",
    "df['year'] = df.index.year #define year index\n",
    "df.set_index(['year','month','day'],inplace=True) #set DataFrame index using multicolumns 'year', 'month', 'day'\n",
    "#df.head()"
   ]
  },
  {
   "cell_type": "markdown",
   "id": "a2996961",
   "metadata": {},
   "source": [
    "Missing data is denoted by -999 in the dataset. We replace these values by `numpy` $\\texttt{NaN}$ (not a number) using the pandas `replace` function."
   ]
  },
  {
   "cell_type": "code",
   "execution_count": null,
   "id": "posted-concord",
   "metadata": {},
   "outputs": [],
   "source": [
    "df = df.replace([-999],np.nan) #replace all non-given values (-999) by numpy NaN"
   ]
  },
  {
   "cell_type": "markdown",
   "id": "b74e21cd",
   "metadata": {},
   "source": [
    "This was the final step in the data preparation. We check how the data set is presented now and save the processed data to the disk."
   ]
  },
  {
   "cell_type": "code",
   "execution_count": null,
   "id": "ranging-chaos",
   "metadata": {},
   "outputs": [],
   "source": [
    "df.head() #check how the data looks now"
   ]
  },
  {
   "cell_type": "markdown",
   "id": "widespread-parcel",
   "metadata": {},
   "source": [
    "It remains to save the processed data as an excel list to the disk into the *Data* folder. "
   ]
  },
  {
   "cell_type": "code",
   "execution_count": null,
   "id": "phantom-venue",
   "metadata": {},
   "outputs": [],
   "source": [
    "output = pd.ExcelWriter('Data/ClimateRgbg.xlsx')\n",
    "df.to_excel(output,'Sheet1')\n",
    "output.save()"
   ]
  },
  {
   "cell_type": "markdown",
   "id": "hispanic-handy",
   "metadata": {},
   "source": [
    "<a id='DataVisualization'></a>\n",
    "## 4. Data Visualization"
   ]
  },
  {
   "cell_type": "markdown",
   "id": "presidential-moisture",
   "metadata": {},
   "source": [
    "To get an overwiew over the existing data, in this section the user can look at the yearly averaged data for each climate observation. As averaging method one can choose min, max, giving the minimal and maximal measured value of the chosen observation, respectively, or mean, calculating the mean over one calendar year."
   ]
  },
  {
   "cell_type": "markdown",
   "id": "gentle-while",
   "metadata": {},
   "source": [
    "Fist, we define global settings for all figures in this notebook:"
   ]
  },
  {
   "cell_type": "code",
   "execution_count": null,
   "id": "amino-colombia",
   "metadata": {},
   "outputs": [],
   "source": [
    "plt.rcParams.update({ 'figure.figsize': [7.2,4.5], 'font.size': 14,'figure.titlesize': 'large',#[6.4, 4.8][3.5, 1.5]\n",
    "                      'figure.titleweight': 'bold',\n",
    "                      'axes.titlepad': 12.0,})\n",
    "plt.rcParams.update({ 'axes.linewidth':1.2, 'axes.labelpad':10, \n",
    "                     'axes.labelsize': 14, 'axes.labelweight': 'bold' })\n",
    "plt.rcParams.update({ 'xtick.labelsize':12, 'ytick.labelsize':12 })\n",
    "plt.rcParams.update({ 'xtick.major.width': 1.2, 'ytick.major.width': 1.2, \n",
    "                    'xtick.major.size': 8, 'ytick.major.size': 8 })"
   ]
  },
  {
   "cell_type": "markdown",
   "id": "0722b99f",
   "metadata": {},
   "source": [
    "The plots are produced using interactive `bokeh` plots and pandas `groupby`, where we choose a specific column from the dataframe (specified by the chosed observation), group by year and then apply `agg` to either get the minimal, maximal or the average value per year. The climate observation can be chosen via a dropdown box and the yearly averaging method via radio buttons."
   ]
  },
  {
   "cell_type": "code",
   "execution_count": null,
   "id": "unique-earth",
   "metadata": {},
   "outputs": [],
   "source": [
    "def YearlyAveragePlot(observation,option):\n",
    "\n",
    "    if observation=='temp':\n",
    "        #figure settings (size, label, title, tools)\n",
    "        p = figure(plot_width=600, plot_height=300,\n",
    "          x_axis_label='Year', y_axis_label='temperature (°C)',\n",
    "          title='Yearly {} temperature'.format(option), tools='pan,box_zoom,wheel_zoom,hover,reset',\n",
    "          tooltips=[('Year','@x'), ('Average {} value year'.format(option),'@y')])\n",
    "\n",
    "        for obs,color in zip(['min temperature','average temperature','max temperature'],Category10[10]):\n",
    "            ddf = df[obs].groupby(['year']).agg([option]) #get the DataFrame\n",
    "            ddf.squeeze() #squeeze 1 dimensional axis object into scalar\n",
    "            x,y = ddf.index.values, ddf.values #define x and y\n",
    "            p.circle(x, y[:,0], radius=.5, color=color, legend_label=obs) #plotting settings\n",
    "            p.line(x, y[:,0], line_width=1, color=color, legend_label=obs)\n",
    "            \n",
    "    if observation=='wind':\n",
    "        #figure settings (size, label, title, tools)\n",
    "        p = figure(plot_width=600, plot_height=300,\n",
    "          x_axis_label='Year', y_axis_label='velocity (m/sec)',\n",
    "          title='Yearly {} wind'.format(option), tools='pan,box_zoom,wheel_zoom,hover,reset',\n",
    "          tooltips=[('Year','@x'), ('Average {} value year'.format(option),'@y')])\n",
    "\n",
    "        for obs,color in zip(['max wind peak value','average wind velocity'],Category10[10]):\n",
    "            ddf = df[obs].groupby(['year']).agg([option])\n",
    "            ddf.squeeze()\n",
    "            x,y = ddf.index.values, ddf.values\n",
    "            p.circle(x, y[:,0], radius=.5, color=color, legend_label=obs)\n",
    "            p.line(x, y[:,0], line_width=1, color=color, legend_label=obs)\n",
    "            \n",
    "    if observation=='prec':\n",
    "        #figure settings (size, label, title, tools)\n",
    "        p = figure(plot_width=600, plot_height=300,\n",
    "          x_axis_label='Year', y_axis_label='precipitation level (mm)',\n",
    "          title='Yearly {} precipitation level'.format(option), tools='pan,box_zoom,wheel_zoom,hover,reset',\n",
    "          tooltips=[('Year','@x'), ('Average {} value year'.format(option),'@y')])\n",
    "\n",
    "        for obs,color in zip(['precipitation level'],Category10[10]):\n",
    "            ddf = df[obs].groupby(['year']).agg([option])\n",
    "            ddf.squeeze()\n",
    "            x,y = ddf.index.values, ddf.values\n",
    "            p.circle(x, y[:,0], radius=.5, color=color, legend_label=obs)\n",
    "            p.line(x, y[:,0], line_width=1, color=color, legend_label=obs)\n",
    "            \n",
    "    if observation=='snow':\n",
    "        #figure settings (size, label, title, tools)\n",
    "        p = figure(plot_width=600, plot_height=300,\n",
    "          x_axis_label='Year', y_axis_label='height (cm)',\n",
    "          title='Yearly {} snow height'.format(option), tools='pan,box_zoom,wheel_zoom,hover,reset',\n",
    "          tooltips=[('Year','@x'), ('Average {} value year'.format(option),'@y')])\n",
    "\n",
    "        for obs,color in zip(['snow height'],Category10[10]):\n",
    "            ddf = df[obs].groupby(['year']).agg([option])\n",
    "            ddf.squeeze()\n",
    "            x,y = ddf.index.values, ddf.values\n",
    "            p.circle(x, y[:,0], radius=.5, color=color, legend_label=obs)\n",
    "            p.line(x, y[:,0], line_width=1, color=color, legend_label=obs)\n",
    "            \n",
    "    if observation=='sun':\n",
    "        #figure settings (size, label, title, tools)\n",
    "        p = figure(plot_width=600, plot_height=300,\n",
    "          x_axis_label='Year', y_axis_label='daily sun (hours)',\n",
    "          title='Yearly {} sun hours'.format(option), tools='pan,box_zoom,wheel_zoom,hover,reset',\n",
    "          tooltips=[('Year','@x'), ('Average {} value year'.format(option),'@y')])\n",
    "\n",
    "        for obs,color in zip(['sun hours'],Category10[10]):\n",
    "            ddf = df[obs].groupby(['year']).agg([option])\n",
    "            ddf.squeeze()\n",
    "            x,y = ddf.index.values, ddf.values\n",
    "            p.circle(x, y[:,0], radius=.5, color=color, legend_label=obs)\n",
    "            p.line(x, y[:,0], line_width=1, color=color, legend_label=obs)\n",
    "            \n",
    "    if observation=='coverage':\n",
    "        #figure settings (size, label, title, tools)\n",
    "        p = figure(plot_width=600, plot_height=300,\n",
    "          x_axis_label='Year', y_axis_label='degree of coverage (Achtel)',\n",
    "          title='Yearly {} average degree of coverage'.format(option), tools='pan,box_zoom,wheel_zoom,hover,reset',\n",
    "          tooltips=[('Year','@x'), ('Average {} value year'.format(option),'@y')])\n",
    "\n",
    "        for obs,color in zip(['average degree of coverage'],Category10[10]):\n",
    "            ddf = df[obs].groupby(['year']).agg([option])\n",
    "            ddf.squeeze()\n",
    "            x,y = ddf.index.values, ddf.values\n",
    "            p.circle(x, y[:,0], radius=.5, color=color, legend_label=obs)\n",
    "            p.line(x, y[:,0], line_width=1, color=color, legend_label=obs)\n",
    "            \n",
    "    if observation=='pressure':\n",
    "        #figure settings (size, label, title, tools)\n",
    "        p = figure(plot_width=600, plot_height=300,\n",
    "          x_axis_label='Year', y_axis_label='pressure (hpa)',\n",
    "          title='Yearly {} average pressure'.format(option), tools='pan,box_zoom,wheel_zoom,hover,reset',\n",
    "          tooltips=[('Year','@x'), ('Average {} value year'.format(option),'@y')])\n",
    "\n",
    "        for obs,color in zip(['average degree of vaport pressure','average air pressure'],Category10[10]):\n",
    "            ddf = df[obs].groupby(['year']).agg([option])\n",
    "            ddf.squeeze()\n",
    "            x,y = ddf.index.values, ddf.values\n",
    "            p.circle(x, y[:,0], radius=.5, color=color, legend_label=obs)\n",
    "            p.line(x, y[:,0], line_width=1, color=color, legend_label=obs)\n",
    "\n",
    "    if observation=='humidity':\n",
    "        #figure settings (size, label, title, tools)\n",
    "        p = figure(plot_width=600, plot_height=300,\n",
    "          x_axis_label='Year', y_axis_label='$\\%$',\n",
    "          title='Yearly {} average relative humidity'.format(option), tools='pan,box_zoom,wheel_zoom,hover,reset',\n",
    "          tooltips=[('Year','@x'), ('Average {} value year'.format(option),'@y')])\n",
    "\n",
    "        for obs,color in zip(['average relative humidity'],Category10[10]):\n",
    "            ddf = df[obs].groupby(['year']).agg([option])\n",
    "            ddf.squeeze()\n",
    "            x,y = ddf.index.values, ddf.values\n",
    "            p.circle(x, y[:,0], radius=.5, color=color, legend_label=obs)\n",
    "            p.line(x, y[:,0], line_width=1, color=color, legend_label=obs)\n",
    "\n",
    "    p.add_layout(p.legend[0], 'right') #location legend\n",
    "    p.title.align = 'center' #location title\n",
    "    p.title.text_font_size = '14pt' #font size title\n",
    "\n",
    "    p.xaxis.axis_label_text_font_style = 'normal' #font size label text\n",
    "    p.yaxis.axis_label_text_font_style = 'normal'\n",
    "\n",
    "    #show output in the notebook\n",
    "    output_notebook() \n",
    "    show(p)\n",
    "\n",
    "#create interactive plot using dopdown box and radio button\n",
    "interactive_plot = interactive(YearlyAveragePlot,observation={'temperature':'temp','wind':'wind','precipitation':'prec',\n",
    "                                              'snow':'snow','sun':'sun','coverage':'coverage',\n",
    "                                              'pressure':'pressure','humidity':'humidity'},\n",
    "                               option=widgets.RadioButtons(options=['max','mean','min'],disabled=False))\n",
    "     \n",
    "#plot the figure and widgets\n",
    "interactive_plot.children[0].description=r'Observation:' #widget interactive_plot\n",
    "interactive_plot.children[1].description=r'measure:' #widget interactive_plot\n",
    "display(interactive_plot)"
   ]
  },
  {
   "cell_type": "markdown",
   "id": "wicked-vertex",
   "metadata": {},
   "source": [
    "The next plot allows to choose a specific year and observation. The values for each day are plotted, as well as the mean over all years from the data set. For the latter one, again `groupby` is used, this time grouping by both month and day, then choosing the mean for `agg`. The observation of interest can be chosen via a dropdown box and the year via a slider."
   ]
  },
  {
   "cell_type": "code",
   "execution_count": null,
   "id": "several-energy",
   "metadata": {},
   "outputs": [],
   "source": [
    "def YearlyPlot(year,observation):\n",
    "\n",
    "    tempData = df[observation] #get data frame with just average temperature\n",
    "    tempData.dropna(inplace=True) #drop all NaN years\n",
    "    \n",
    "    #check if data for the chosen year exists\n",
    "    if (year in tempData.index) == False:\n",
    "        print('No data available for the year {}!'.format(year))\n",
    "    \n",
    "    else:\n",
    "    \n",
    "        #plot the daily mean observation over all years\n",
    "        tempData.groupby(['month','day']).agg(['mean']).plot(style='rx',label='mean over all years')\n",
    "        \n",
    "        #plot the daily observation for chosen year\n",
    "        tempData.loc[year].plot(style='bx',legend='{}'.format(year))\n",
    "        plt.xticks(np.arange(15,360,30), ('January','February','March','April','May','June','July','August','September',\n",
    "                                'October','November','December'), rotation=45) #manually set xticks\n",
    "    \n",
    "        #ylabel for each observation\n",
    "        if (observation=='max temperature' or observation=='min temperature' or observation=='average temperature'):\n",
    "            plt.ylabel('temperature (˚C)')\n",
    "        if (observation=='max wind peak value' or observation=='average wind velocity'):\n",
    "            plt.ylabel('velocity (m/sec)')\n",
    "        if (observation=='precipitation level'):\n",
    "            plt.ylabel('precipitation (mm)')\n",
    "        if (observation=='snow height'):\n",
    "            plt.ylabel('height (cm)')\n",
    "        if (observation=='sun hours'):\n",
    "            plt.ylabel('hours (daily)')\n",
    "        if (observation=='average degree of coverage'):\n",
    "            plt.ylabel('coverage (Achtel)')\n",
    "        if (observation=='average degree of vaport pressure' or observation=='average air pressure'):\n",
    "            plt.ylabel('pressure (hpa)')\n",
    "        if (observation=='average relative humidity'):\n",
    "            plt.ylabel('$\\%$')\n",
    "            \n",
    "        plt.xlabel('day,month') #xlabel\n",
    "        plt.title('{}: {}'.format(year,observation)) #title\n",
    "        plt.legend() #legend\n",
    "        \n",
    "        plt.tight_layout() #tight layout (needed for safing)\n",
    "        plt.savefig('Figures/YearlyTemp.png',dpi=300) #safe figure\n",
    "    \n",
    "#create interactive plot with slider and dopdown box\n",
    "interactive_plot = interactive(YearlyPlot,\n",
    "                               year=widgets.IntSlider(min=1879, max=2019, step=1, value=1990,continuous_update=False),\n",
    "                               observation={'max temperature':'max temperature',\n",
    "                                           'min temperature':'min temperature',\n",
    "                                           'average temperature':'average temperature',\n",
    "                                           'max wind peak value':'max wind peak value',\n",
    "                                           'average wind velocity':'average wind velocity',\n",
    "                                           'precipitation level':'precipitation level',\n",
    "                                           'snow height':'snow height',\n",
    "                                           'sun hours':'sun hours',\n",
    "                                           'average degree of coverage':'average degree of coverage',\n",
    "                                           'average degree of vaport pressure':'average degree of vaport pressure',\n",
    "                                           'average air pressure':'average air pressure',\n",
    "                                           'average relative humidity':'average relative humidity'})\n",
    "\n",
    "#visualization in notebook\n",
    "interactive_plot.children[0].description=r'Year:' #widget interactive_plot\n",
    "interactive_plot.children[1].description=r'Observation:' #widget interactive_plot\n",
    "display(interactive_plot)"
   ]
  },
  {
   "cell_type": "markdown",
   "id": "twenty-mustang",
   "metadata": {},
   "source": [
    "<a id='Statistics'></a>\n",
    "## 5. Statistics of Climate Observations"
   ]
  },
  {
   "cell_type": "markdown",
   "id": "alone-parcel",
   "metadata": {},
   "source": [
    "In the following, we apply some statistical methods to interpret the climate data. Most of the theory is taken from the book *Statistical Analysis of Climate Series -\n",
    "Analyzing, Plotting, Modeling, and Predicting with R* by Helmut Pruscha (Springer 2013), which is available as ebook in the LU library, see [here](https://eds.b.ebscohost.com/eds/detail/detail?vid=2&sid=68a4b26f-fdd9-4747-95f2-40e5d7637ebc%40sessionmgr102&bdata=JnNpdGU9ZWRzLWxpdmUmc2NvcGU9c2l0ZQ%3d%3d#AN=lub.5961074&db=cat07147a). The interested reader is referred to this reference for more explanation of the used methods."
   ]
  },
  {
   "cell_type": "markdown",
   "id": "appointed-courtesy",
   "metadata": {},
   "source": [
    "<a id='StandardError'></a>\n",
    "### 5.1 Standard Error of Means"
   ]
  },
  {
   "cell_type": "markdown",
   "id": "republican-designer",
   "metadata": {},
   "source": [
    "Above and in the following we often consider the mean over time intervals as years or months. We are therefore intersted in the standard error of the mean, which is calculated as the standard deviation $\\sigma$ devided by the square root of the lenght of the sample $n$:\n",
    "$$\n",
    "SEM = \\frac{\\sigma}{\\sqrt{n}}\n",
    "$$"
   ]
  },
  {
   "cell_type": "code",
   "execution_count": null,
   "id": "d10fecbc",
   "metadata": {},
   "outputs": [],
   "source": [
    "#function to compute standar error of the mean\n",
    "def f_sem(x):\n",
    "    return x.std() / np.sqrt(x.count())\n",
    "f_sem.__name__ = 'SEM'"
   ]
  },
  {
   "cell_type": "markdown",
   "id": "cbcb1099",
   "metadata": {},
   "source": [
    "Below we plot the standard error of the mean for each year arond the yearly mean for the chosen observation. As before, `groupy` and `agg` are used as well as the function to compute the SEM. The observation of interest can be chosen via a dropdown box."
   ]
  },
  {
   "cell_type": "code",
   "execution_count": null,
   "id": "hollywood-nebraska",
   "metadata": {},
   "outputs": [],
   "source": [
    "def SEM(option):\n",
    "    y = df.groupby('year').agg(['mean',f_sem])[option,'mean'] #calculate yearly mean of chosen observation\n",
    "    plt.plot(y,label='yearly mean') #plot\n",
    "    yerr = df.groupby('year').agg(['mean',f_sem])[option,'SEM'] #calculate yearly SEM of chosen observation\n",
    "    plt.fill_between(y.index, (y+yerr).values, (y-yerr).values, alpha=.5,label='SEM') #plot\n",
    "    \n",
    "    #set ylabels for chosen observation\n",
    "    if (option=='max temperature' or option=='min temperature' or option=='average temperature'):\n",
    "        plt.ylabel('temperature (˚C)')\n",
    "    if (option=='max wind peak value' or option=='average wind velocity'):\n",
    "        plt.ylabel('velocity (m/sec)')\n",
    "    if (option=='precipitation level'):\n",
    "        plt.ylabel('precipitation (mm)')\n",
    "    if (option=='snow height'):\n",
    "        plt.ylabel('height (cm)')\n",
    "    if (option=='sun hours'):\n",
    "        plt.ylabel('hours (daily)')\n",
    "    if (option=='average degree of coverage'):\n",
    "        plt.ylabel('coverage (Achtel)')\n",
    "    if (option=='average degree of vaport pressure' or option=='average air pressure'):\n",
    "        plt.ylabel('pressure (hpa)')\n",
    "    if (option=='average relative humidity'):\n",
    "        plt.ylabel('$\\%$')\n",
    "      \n",
    "    #legend, xlabel and title\n",
    "    plt.legend()\n",
    "    plt.xlabel('Year')\n",
    "    plt.title('Yearly mean {}'.format(option))\n",
    "    \n",
    "    #safe figure in tight layout\n",
    "    plt.tight_layout()\n",
    "    plt.savefig('Figures/TempYearlyMean.png',dpi=300)\n",
    "  \n",
    "#create slider interactive plot\n",
    "interactive_plot = interactive(SEM,option={'max temperature':'max temperature',\n",
    "                                           'min temperature':'min temperature',\n",
    "                                           'average temperature':'average temperature',\n",
    "                                           'max wind peak value':'max wind peak value',\n",
    "                                           'average wind velocity':'average wind velocity',\n",
    "                                           'precipitation level':'precipitation level',\n",
    "                                           'snow height':'snow height',\n",
    "                                           'sun hours':'sun hours',\n",
    "                                           'average degree of coverage':'average degree of coverage',\n",
    "                                           'average degree of vaport pressure':'average degree of vaport pressure',\n",
    "                                           'average air pressure':'average air pressure',\n",
    "                                           'average relative humidity':'average relative humidity'})\n",
    "\n",
    "#visualization plot\n",
    "interactive_plot.children[0].description=r'Observation:' # slider interactive_plot\n",
    "display(interactive_plot)"
   ]
  },
  {
   "cell_type": "markdown",
   "id": "naval-mechanism",
   "metadata": {},
   "source": [
    "<a id='ClimateZone'></a>\n",
    "### 5.2 Climate Zone"
   ]
  },
  {
   "cell_type": "markdown",
   "id": "universal-editor",
   "metadata": {},
   "source": [
    "To determine the climate zone of Regensburg, we use the [Köppen climate classification](https://en.wikipedia.org/wiki/Köppen_climate_classification), which is one of the most commonly used climate classification systems. It was published by the German-Russian climatologist Wladimir Köppen in the year 1884.  \n",
    "This classification system is based on interpreting the monthly average values for the average temperature as well as the monthly average precipitation level. This is done by calculating the monthly mean over all years, respectively, and plotting them.  \n",
    "The following plots show the monthly average values for the average temperature as well as the average precipitation level. Moreover, the user can choose a year of interest to compare the monthly mean average temperature for a specific year to the respective mean over all years."
   ]
  },
  {
   "cell_type": "code",
   "execution_count": null,
   "id": "outside-intelligence",
   "metadata": {},
   "outputs": [],
   "source": [
    "def MonthlyTempPlots(year):\n",
    "\n",
    "    tempData = df['average temperature'] #get data frame with just average temperature\n",
    "    tempData.dropna(inplace=True) #drop all NaN years\n",
    "    \n",
    "    rainData = df['precipitation level'] #get data frame with just precipitation level\n",
    "    rainData.dropna(inplace=True) #drop all NaN years\n",
    "    \n",
    "    if (year in df.index) == False:\n",
    "        #error message if no data exists for chosen year\n",
    "        print('No data available for the year {}!'.format(year))\n",
    "        \n",
    "        fig, ax = plt.subplots(nrows=1, ncols=2, figsize=(9, 7)) #create 1x2 subplots\n",
    "        \n",
    "        #bar plot using groupy over months and agg mean\n",
    "        (pd.to_numeric(tempData).groupby(['month']).agg(['mean'])).plot.bar(ax=ax[0]) \n",
    "        #fix ticks, labels, title and limits of y-axis\n",
    "        ax[0].set_xticks(np.arange(12)) \n",
    "        ax[0].set_xticklabels(('January','February','March','April','May','June','July','August','September',\n",
    "                                'October','November','December'), rotation=45)\n",
    "        ax[0].set_ylabel('temperature (°C)') \n",
    "        ax[0].set_xlabel('month')\n",
    "        ax[0].set_title('Average temperature all years')\n",
    "        ax[0].set_ylim([-12,25])\n",
    "        ax[0].get_legend().remove()\n",
    "        \n",
    "        #bar plot using groupy over months and agg mean\n",
    "        (pd.to_numeric(rainData).groupby(['month']).agg(['mean'])).plot.bar(ax=ax[1])\n",
    "        #fix ticks, labels, title and limits of y-axis\n",
    "        ax[1].set_xticks(np.arange(12)) \n",
    "        ax[1].set_xticklabels(('January','February','March','April','May','June','July','August','September',\n",
    "                                'October','November','December'), rotation=45)\n",
    "        ax[1].set_ylabel('precipitation (mm)') \n",
    "        ax[1].set_xlabel('month')\n",
    "        ax[1].set_title('Average precipitation all years')\n",
    "        ax[1].set_ylim([0,5])\n",
    "        ax[1].yaxis.set_ticks_position('right')\n",
    "        ax[1].yaxis.set_label_position(\"right\")\n",
    "        ax[1].get_legend().remove()\n",
    "        \n",
    "        #safe figure with tight layout\n",
    "        fig.tight_layout()\n",
    "        fig.savefig('Figures/ClimateZone.png',dpi=300)\n",
    "        \n",
    "    else:\n",
    "\n",
    "        fig, ax = plt.subplots(nrows=2, ncols=2, figsize=(9, 7)) #create 2x2 subplots\n",
    " \n",
    "        #bar plot using groupy over months and agg mean\n",
    "        (pd.to_numeric(tempData).groupby(['month']).agg(['mean'])).plot.bar(ax=ax[0,0])\n",
    "        #fix ticks, labels, title and limits of y-axis\n",
    "        ax[0,0].set_xticks(np.arange(12)) \n",
    "        ax[0,0].set_xticklabels(['January','February','March','April','May','June','July','August','September',\n",
    "                                'October','November','December'], rotation=45)\n",
    "        ax[0,0].set_ylabel('temperature (°C)') \n",
    "        ax[0,0].set_xlabel('month')\n",
    "        ax[0,0].set_title('Average temperature all years')\n",
    "        ax[0,0].set_ylim([-12,25])\n",
    "        ax[0,0].get_legend().remove()\n",
    "\n",
    "        #bar plot using groupy over months and agg mean for chosen year\n",
    "        (pd.to_numeric(tempData.loc[year]).groupby(['month']).agg(['mean'])).plot.bar(ax=ax[0,1])\n",
    "        #fix ticks, labels, title and limits of y-axis\n",
    "        ax[0,1].set_xticks(np.arange(12)) \n",
    "        ax[0,1].set_xticklabels(['January','February','March','April','May','June','July','August','September',\n",
    "                                'October','November','December'], rotation=45)\n",
    "        ax[0,1].set_ylabel('temperature (°C)')  \n",
    "        ax[0,1].set_title('Average temperature {}'.format(year))\n",
    "        ax[0,1].set_ylim([-12,25])\n",
    "        ax[0,1].yaxis.set_ticks_position('right')\n",
    "        ax[0,1].yaxis.set_label_position(\"right\")\n",
    "        ax[0,1].get_legend().remove()\n",
    "\n",
    "        #bar plot using groupy over months and agg mean \n",
    "        (pd.to_numeric(rainData).groupby(['month']).agg(['mean'])).plot.bar(ax=ax[1,0])\n",
    "        #fix ticks, labels, title and limits of y-axis\n",
    "        ax[1,0].set_xticks(np.arange(12)) \n",
    "        ax[1,0].set_xticklabels(['January','February','March','April','May','June','July','August','September',\n",
    "                                'October','November','December'], rotation=45)\n",
    "        ax[1,0].set_ylabel('precipitation (mm)') \n",
    "        ax[1,0].set_xlabel('month')\n",
    "        ax[1,0].set_title('Average precipitation all years')\n",
    "        ax[1,0].set_ylim([0,5])\n",
    "        ax[1,0].get_legend().remove()\n",
    "\n",
    "        #bar plot using groupy over months and agg mean for chosen year\n",
    "        (pd.to_numeric(rainData.loc[year]).groupby(['month']).agg(['mean'])).plot.bar(ax=ax[1,1])\n",
    "        #fix ticks, labels, title and limits of y-axis\n",
    "        ax[1,1].set_xticks(np.arange(12)) \n",
    "        ax[1,1].set_xticklabels(['January','February','March','April','May','June','July','August','September',\n",
    "                                'October','November','December'], rotation=45)\n",
    "        ax[1,1].set_ylabel('precipitation (mm)')  \n",
    "        ax[1,1].set_title('Average precipitation {}'.format(year))\n",
    "        ax[1,1].set_ylim([0,5])\n",
    "        ax[1,1].yaxis.set_ticks_position('right')\n",
    "        ax[1,1].yaxis.set_label_position(\"right\")\n",
    "        ax[1,1].get_legend().remove()\n",
    " \n",
    "        #safe figure with tight layout\n",
    "        fig.tight_layout()\n",
    "        fig.savefig('Figures/ClimateZone.png',dpi=300)\n",
    "\n",
    "#create interactive plot with slider to choose year\n",
    "interactive_plot = interactive(MonthlyTempPlots,year=widgets.IntSlider(min=1879, max=2019, step=1, value=1990,continuous_update=False))\n",
    "interactive_plot.children[0].description=r'Year' # slider interactive_plot\n",
    "display(interactive_plot) #display plot in notebook"
   ]
  },
  {
   "cell_type": "markdown",
   "id": "otherwise-stopping",
   "metadata": {},
   "source": [
    "Due to the [Köppen climate classification](https://en.wikipedia.org/wiki/Köppen_climate_classification) the climate in Regensburg can be classified between humid continental (Dfb) and oceanic (Cfb) climate."
   ]
  },
  {
   "cell_type": "markdown",
   "id": "chinese-pressure",
   "metadata": {},
   "source": [
    "<a id='TemperatureTrends'></a>\n",
    "### 5.3 Temperature Trends: Poylonomial Regression"
   ]
  },
  {
   "cell_type": "markdown",
   "id": "exceptional-mercury",
   "metadata": {},
   "source": [
    "The climate change and the increasing average temperature can also be noticed in this climate data set. In order to see an overall temperature trend, we use polynomial regression. Using these fitted polynomials (of lower order), the long-term variation of the time series can be described mathematically. This allows us to check if we can notice the climate change in the yearly average temperature development between 1879 and 2019."
   ]
  },
  {
   "cell_type": "markdown",
   "id": "f336d048",
   "metadata": {},
   "source": [
    "The following methods need to be imported from the `sklearn` package, which provides tools for predictive data analysis and Machine Learning:"
   ]
  },
  {
   "cell_type": "code",
   "execution_count": null,
   "id": "normal-optimum",
   "metadata": {},
   "outputs": [],
   "source": [
    "from sklearn.preprocessing import PolynomialFeatures\n",
    "from sklearn.linear_model import LinearRegression"
   ]
  },
  {
   "cell_type": "markdown",
   "id": "behind-petroleum",
   "metadata": {},
   "source": [
    "By changing $\\texttt{order}$ in the next code snipplet, the order of the interpolating polynomial can be adapted."
   ]
  },
  {
   "cell_type": "code",
   "execution_count": null,
   "id": "responsible-start",
   "metadata": {},
   "outputs": [],
   "source": [
    "data = pd.to_numeric(df['average temperature']).groupby(['year']).agg(['mean']) #choose wanted data by groupby\n",
    "#reshaping needed for sklearn function\n",
    "x = data.index.values.reshape(-1,1)\n",
    "y = data.iloc[:,0].values.reshape(-1,1)\n",
    "\n",
    "order = 4 #order of the polynomial approximation\n",
    "\n",
    "#create polynomial regression using sklearn functions\n",
    "poly_reg = PolynomialFeatures(degree=order)\n",
    "X_poly = poly_reg.fit_transform(x)\n",
    "pol_reg = LinearRegression()\n",
    "pol_reg.fit(X_poly, y)\n",
    "\n",
    "plt.plot(x, y, label='yearly average') #plot yearly mean temperature\n",
    "plt.plot(x, pol_reg.predict(poly_reg.fit_transform(x)), label='fitted polynomial') #plot fitted polynomial\n",
    "#set xticks, title, labels, legend\n",
    "plt.xticks([1880,1900,1920,1940,1960,1980,2000,2019], [1897,1900,1920,1940,1960,1980,2000,2019]) \n",
    "plt.title('Temperature trend using polynomial regression of order {}'.format(order))\n",
    "plt.xlabel('year')\n",
    "plt.ylabel('average temperature (°C)')\n",
    "plt.legend()\n",
    "plt.savefig('Figures/TempTrend.png',dpi=300) #safe figure"
   ]
  },
  {
   "cell_type": "markdown",
   "id": "living-depression",
   "metadata": {},
   "source": [
    "From the previous figure it is obvious that the temperature average increased between 1879 and 2019."
   ]
  },
  {
   "cell_type": "markdown",
   "id": "unable-peoples",
   "metadata": {},
   "source": [
    "We can calculate the residual between the fitted polynomial $p_t$ and the actual time series $y_t$ for each year $t$, which allows to measure the goodness-of-fit using the mean sum of the squared residuals (MSQ):\n",
    "$$\n",
    "\\sqrt{\\frac{1}{n}\\sum_{t=1}^{n}(y_t-p_t)^2}.\n",
    "$$\n",
    "A smaller value indicates a better polynomial approximation.\n",
    "For the given approximation we can calculate the *goodness-of-fit measure*:"
   ]
  },
  {
   "cell_type": "code",
   "execution_count": null,
   "id": "extended-medline",
   "metadata": {},
   "outputs": [],
   "source": [
    "p = pol_reg.predict(poly_reg.fit_transform(x)) #fitted polynomial (array)\n",
    "L = (y-p)**2 #subtract arrays and square each entry\n",
    "L2 = [(1/(i+1))*L[i] for i in range(len(L))] #list comprehension for multiplication factor\n",
    "print('goodness-of-fit measure:',np.sqrt(sum(L2))) #sum over list and print answer"
   ]
  },
  {
   "cell_type": "markdown",
   "id": "differential-persian",
   "metadata": {},
   "source": [
    "Changing the order above and re-running the previous two cells shows the dependence of the goodness of the polynomial approximation on the order of the polynomial."
   ]
  },
  {
   "cell_type": "markdown",
   "id": "loaded-people",
   "metadata": {},
   "source": [
    "<a id='MovingAverages'></a>\n",
    "### 5.4 Moving Averages"
   ]
  },
  {
   "cell_type": "markdown",
   "id": "brutal-decade",
   "metadata": {},
   "source": [
    "Another interesting insight into the temperature development over the years is to compare several consecutives years by calculating yearly averages. This is done by computing so-called *moving averages* over $k$ years with $k=2l+1$. We can calculate a trend temperature $m_t$ in a time interval $[t-l,t+t]$ as an average over $k$ years centered at $t$ and weighting the endpoints by $\\frac{1}{2}$:\n",
    "$$\n",
    "m_t = \\frac{1}{2l}\\left(\\frac{1}{2}y_{t-l}+y_{t-l+1}+\\dots+y_t+\\dots+y_{t+l-1}+\\frac{1}{2}y_{t+l}\\right).\n",
    "$$\n",
    "The following function computes for a time series $\\texttt{x}$ the moving averages over $\\texttt{k}$ years:"
   ]
  },
  {
   "cell_type": "code",
   "execution_count": null,
   "id": "recreational-absorption",
   "metadata": {},
   "outputs": [],
   "source": [
    "def ma(x,k):\n",
    "    #computes the trend function for a time series x for k years, k needs to be odd!\n",
    "    l = int((k-1)/2)\n",
    "    y = np.zeros(len(x)-2*l)\n",
    "    for i in range(len(x)-2*l):\n",
    "        t = i+l\n",
    "        y[i] = sum(x[t-l+1:t+l]) + 0.5*(x[t-l]+x[t+l])\n",
    "    return 1/(2*l)*y"
   ]
  },
  {
   "cell_type": "markdown",
   "id": "3f262bae",
   "metadata": {},
   "source": [
    "Then we can plot the moving averages over $k$ years, where $k$ can be chosen by the user using a slider."
   ]
  },
  {
   "cell_type": "code",
   "execution_count": null,
   "id": "phantom-fusion",
   "metadata": {},
   "outputs": [],
   "source": [
    "def MovingAveragesPlot(k):\n",
    "    \n",
    "    z = ma(y,k) #calculate moving averages over k year\n",
    "    l = int((k-1)/2)\n",
    "    \n",
    "    #plot, set xticks, title, labels and save figure\n",
    "    plt.plot(x[l:-l],z,label='centered moving averages')\n",
    "    plt.plot(x, y, label='yearly average')\n",
    "    plt.xticks([1880,1900,1920,1940,1960,1980,2000,2019], [1897,1900,1920,1940,1960,1980,2000,2019])\n",
    "    plt.title('Moving averages with means of {} years'.format(k))\n",
    "    plt.xlabel('year')\n",
    "    plt.ylabel('average temperature (°C)')\n",
    "    plt.legend()\n",
    "    plt.savefig('Figures/TempMovingAverages.png',dpi=300)\n",
    "\n",
    "#create interactive plot with slider to choose number of years to average over\n",
    "interactive_plot = interactive(MovingAveragesPlot,k=widgets.IntSlider(min=3, max=11, step=2, value=1,continuous_update=False))\n",
    "interactive_plot.children[0].description=r'Years:' # slider interactive_plot\n",
    "#display interactive plot\n",
    "display(interactive_plot)"
   ]
  },
  {
   "cell_type": "markdown",
   "id": "japanese-conspiracy",
   "metadata": {},
   "source": [
    "<a id='Oscillations'></a>\n",
    "### 5.5 Oscillations"
   ]
  },
  {
   "cell_type": "markdown",
   "id": "comprehensive-repair",
   "metadata": {},
   "source": [
    "Not only trends and moving averages are interesting, but also the oscillation of climatological series over the years. These are calculated considering moving 10-year blocks $[t-9,t]$ and calcualting the standard deviation for each block.  \n",
    "This is done in the following function `Oscillation`:"
   ]
  },
  {
   "cell_type": "code",
   "execution_count": null,
   "id": "157efe27",
   "metadata": {},
   "outputs": [],
   "source": [
    "def Oscillation(x,k):\n",
    "    #calculate standard deviation of series x over moving k-year blocks\n",
    "    y = np.zeros(len(x)-k)\n",
    "    for i in range(len(x)-k):\n",
    "        t = i+k\n",
    "        y[i] = np.std(x[t-k:t+1])\n",
    "    return y"
   ]
  },
  {
   "cell_type": "markdown",
   "id": "c84d3198",
   "metadata": {},
   "source": [
    "In the next plot, we can see how much the average temperature oscillates."
   ]
  },
  {
   "cell_type": "code",
   "execution_count": null,
   "id": "loved-maximum",
   "metadata": {},
   "outputs": [],
   "source": [
    "plt.plot(x[10:], Oscillation(y[:,0],10)) #plot std oscillations against years\n",
    "#set xticks, label, title and save figure\n",
    "plt.xticks([1880,1900,1920,1940,1960,1980,2000,2019], [1897,1900,1920,1940,1960,1980,2000,2019])\n",
    "plt.xlabel('year')\n",
    "plt.ylabel('standard deviation temperature (°C)')\n",
    "plt.title('Oscillation yearly average temperature')\n",
    "plt.savefig('Figures/TemperatureOscillation.png',dpi=300)"
   ]
  },
  {
   "cell_type": "markdown",
   "id": "brutal-clinton",
   "metadata": {},
   "source": [
    "<a id='Correlation'></a>\n",
    "### 5.6 Correlation"
   ]
  },
  {
   "cell_type": "markdown",
   "id": "neither-truth",
   "metadata": {},
   "source": [
    "Looking at the correlating of data reveals more information about the dependence between the datasets. \n",
    "The correlation coefficient is a statistical measure of the strength of the dependence between the datasets with values ranging between -1.0 and 1.0.  \n",
    "Auto-correlation is a special case where the dependence between variables from the same dataset at different time points is studied. This is an indication for how the value of a parameter $y_t$ at time point $t$ is correlated with the value $y_{t+1}$ at time point $t+1$. In the case of climate data, auto-correlation can indicate a predictive relationship.  \n",
    "Here, we study the effect of seasonal and trend components on auto-correlation. We therefore make a scatter plot of $y_t$ against $y_{t+1}$ and calculate the correlation coefficient using the numpy function `corrcoef`."
   ]
  },
  {
   "cell_type": "code",
   "execution_count": null,
   "id": "complex-juvenile",
   "metadata": {},
   "outputs": [],
   "source": [
    "#monthly mean temperature using groupy and agg\n",
    "mt = pd.to_numeric(df['average temperature']).groupby(['year','month']).agg(['mean'])['mean'] \n",
    "\n",
    "corr = np.corrcoef(mt[:-1],mt[1:])[0,1] #calculate correlation coefficient\n",
    "#create scatter plot, labels, legend, title and save figure\n",
    "plt.scatter(mt[:-1],mt[1:],label='correlation coefficient: {:.3f}'.format(corr))\n",
    "plt.xlabel('$\\mathbf{y_t}$ (°C)')\n",
    "plt.ylabel('$\\mathbf{y_{t+1}}$ (°C)')\n",
    "plt.legend()\n",
    "plt.title('Correlation monthly temperature average')\n",
    "plt.savefig('Figures/TempCorrel.png',dpi=300)"
   ]
  },
  {
   "cell_type": "markdown",
   "id": "resident-procurement",
   "metadata": {},
   "source": [
    "We notice that the correlation coefficient is $r \\approx 0.825$. The large value is caused by seasonal effects, i.e. to the course of the monthly temperatures over the calendar year and the dependence of the monthly temperature on the previous month. It thus contains redundant information. To overcome this effect, we can adjust the temperatures seasonally by subtracting the monthly average temperatures over all considered years. This can be done by subtracting the corresponding data frames."
   ]
  },
  {
   "cell_type": "code",
   "execution_count": null,
   "id": "intended-thanksgiving",
   "metadata": {},
   "outputs": [],
   "source": [
    "tempData = df['average temperature'] #get data frame with just average temperature\n",
    "tempData.dropna(inplace=True) \n",
    "av = pd.to_numeric(tempData).groupby(['month']).agg(['mean']) #get monthly mean over all years\n",
    "d1 = pd.DataFrame(mt) #create DataFrame from monthly mean for each year\n",
    "rr = d1-av #subtract these data frames to seasonally adjust\n",
    "\n",
    "corr = np.corrcoef(rr['mean'][:-1],rr['mean'][1:])[0,1] #calculate seasonally adjusted correlation coefficient\n",
    "#create scatter plot, labels, legend, title and save figure\n",
    "plt.scatter(rr[:-1],rr[1:],label='correlation coefficient: {:.3f}'.format(corr))\n",
    "plt.xlabel('$\\mathbf{y_t}$ (°C)')\n",
    "plt.ylabel('$\\mathbf{y_{t+1}}$ (°C)')\n",
    "plt.legend()\n",
    "plt.title('Correlation monthly temperature average, seasonally adjusted')\n",
    "plt.savefig('Figures/TempCorrelSeasonallyAdj.png',dpi=300)"
   ]
  },
  {
   "cell_type": "markdown",
   "id": "needed-ceremony",
   "metadata": {},
   "source": [
    "We notice that the correlation coefficient decreases to $r \\approx 0.247$ when removing seasonal effects."
   ]
  },
  {
   "cell_type": "markdown",
   "id": "2f5541ea",
   "metadata": {},
   "source": [
    "<a id='Conclusions'></a>\n",
    "## 6. Conclusions"
   ]
  },
  {
   "cell_type": "markdown",
   "id": "81089e60",
   "metadata": {},
   "source": [
    "In this project we have made a small data science case study: We started searching for a freely available dataset and downloaded it. Then we read in the data to a Phyton file and processed the data by cleaning it and improving its readability. In order to get a first overview, we visualized the data using interactive bokeh plots. In the following, we applied some statistical methods to determine the climate zone, climate trends over the considered time intervals as well as correlations between the measurements.  "
   ]
  },
  {
   "cell_type": "markdown",
   "id": "edd0b016",
   "metadata": {},
   "source": [
    "<!--bibtex\n",
    "\n",
    "@book{pruscha2012statistical,\n",
    "  title={Statistical analysis of climate series: analyzing, plotting, modeling, and predicting with R},\n",
    "  author={Pruscha, Helmut},\n",
    "  year={2012},\n",
    "  publisher={Springer Science \\& Business Media}\n",
    "}\n",
    "\n",
    "-->"
   ]
  },
  {
   "cell_type": "markdown",
   "id": "2df6095c",
   "metadata": {},
   "source": [
    "<a id='References'></a>\n",
    "## References"
   ]
  },
  {
   "cell_type": "markdown",
   "id": "5f744869",
   "metadata": {},
   "source": [
    "* The data set used in this project is freely available at the webpage of the German Meteorological Service (Deutscher Wetterdienst, DWD), see \n",
    "[this url](https://www.dwd.de/DE/leistungen/klimadatendeutschland/klarchivtagmonat.html?)\n",
    "* The theory for the statistical methods is mostly taken from  the book *Statistical Analysis of Climate Series - Analyzing, Plotting, Modeling, and Predicting with R* by Helmut Pruscha (Springer 2013)\n",
    "* Course literature of the course *Reproducible and Interactive Data Science* at Lund University, 2021, see [the course homepage](https://github.com/mlund/jupyter-course)\n",
    "* Wikipedia pages as linked in the notebook"
   ]
  },
  {
   "cell_type": "markdown",
   "id": "20c7cc14",
   "metadata": {},
   "source": [
    "Rules for using DWD data sets can be found [here](https://www.dwd.de/EN/service/copyright/templates_dwd_as_source.html)."
   ]
  },
  {
   "cell_type": "code",
   "execution_count": null,
   "id": "9f98ba8f",
   "metadata": {},
   "outputs": [],
   "source": []
  }
 ],
 "metadata": {
  "kernelspec": {
   "display_name": "Python 3",
   "language": "python",
   "name": "python3"
  },
  "language_info": {
   "codemirror_mode": {
    "name": "ipython",
    "version": 3
   },
   "file_extension": ".py",
   "mimetype": "text/x-python",
   "name": "python",
   "nbconvert_exporter": "python",
   "pygments_lexer": "ipython3",
   "version": "3.9.2"
  }
 },
 "nbformat": 4,
 "nbformat_minor": 5
}
